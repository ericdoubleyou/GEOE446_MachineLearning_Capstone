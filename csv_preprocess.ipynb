{
 "cells": [
  {
   "cell_type": "code",
   "execution_count": 4,
   "metadata": {},
   "outputs": [],
   "source": [
    "import pandas as pd\n",
    "import os\n",
    "#import geopandas as gpd\n",
    "from pathlib import Path"
   ]
  },
  {
   "cell_type": "code",
   "execution_count": 16,
   "metadata": {},
   "outputs": [],
   "source": [
    "class DataFile:\n",
    "    def __init__(self,fpath,x_col,y_col,val_col): \n",
    "        self.fpath = Path(fpath)\n",
    "        self.data = pd.read_csv(self.fpath).iloc[:,[x_col,y_col,val_col]]\n",
    "\n",
    "    def clean(self):\n",
    "        self.data = self.data.dropna()\n",
    "\n",
    "\n",
    "    def save_data(self):\n",
    "        self.data.to_csv(Path(f\"CleanedData/CLEANED_{os.path.basename(self.fpath)}\"))\n",
    "        \n",
    "\n"
   ]
  },
  {
   "cell_type": "code",
   "execution_count": 17,
   "metadata": {},
   "outputs": [],
   "source": [
    "CleanFile = DataFile(\"/Users/janson/Downloads/csvfiles/LouisaVirginiaGravity.csv\",6,7,12)\n",
    "CleanFile.save_data()\n",
    "\n",
    "\n",
    "\n"
   ]
  }
 ],
 "metadata": {
  "kernelspec": {
   "display_name": "464venvConda",
   "language": "python",
   "name": "python3"
  },
  "language_info": {
   "codemirror_mode": {
    "name": "ipython",
    "version": 3
   },
   "file_extension": ".py",
   "mimetype": "text/x-python",
   "name": "python",
   "nbconvert_exporter": "python",
   "pygments_lexer": "ipython3",
   "version": "3.9.15 | packaged by conda-forge | (main, Nov 22 2022, 08:48:25) \n[Clang 14.0.6 ]"
  },
  "orig_nbformat": 4,
  "vscode": {
   "interpreter": {
    "hash": "8823026bbab6d2fa276f4f9355b2876f1f7790dd8917126c1deb46b202241d84"
   }
  }
 },
 "nbformat": 4,
 "nbformat_minor": 2
}
